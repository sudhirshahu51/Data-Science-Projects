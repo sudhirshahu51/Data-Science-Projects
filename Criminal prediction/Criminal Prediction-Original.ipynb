{
 "cells": [
  {
   "cell_type": "markdown",
   "metadata": {},
   "source": [
    "# <br>--------------------------------------------------------------------------------------------------------\n",
    "# ___**Predict the Criminals**___\n"
   ]
  },
  {
   "cell_type": "markdown",
   "metadata": {},
   "source": [
    "This Python data Science project is based on the <a href=\"https://www.hackerearth.com/challenge/competitive/predict-the-criminal/\">Predict the Criminals</a> challenge organised by <a href =\"https://www.hackerearth.com\"> HackerEarth</a>. As obvious from the name the main task of the challenge was to predict the criminals from given dataset with high accuracy.\n",
    "<br>"
   ]
  },
  {
   "cell_type": "markdown",
   "metadata": {},
   "source": [
    "\n",
    "<img src=https://media.tenor.com/images/4705bf0c57ab7059bc52852e637d337b/tenor.gif width=\"800\" border=\"10\">\n",
    "\n",
    "     source: Google"
   ]
  },
  {
   "cell_type": "markdown",
   "metadata": {},
   "source": [
    "\n",
    "<br>\n",
    "\n",
    "As given at the challenge site(<a href=\"https://www.hackerearth.com/challenge/competitive/predict-the-criminal/\">Predict the Criminals</a>) the description of the problem is as below.\n",
    "<br>\n",
    "\n",
    "\n",
    "\n",
    "**Problem Description:** \n",
    "> *\"There has been a surge in crimes committed in recent years, making crime a top cause of concern for law enforcement. If we are able to estimate whether someone is going to commit a crime in the future, we can take precautions and be prepared.\"* \n",
    "\n",
    "You are given a dataset containing answers to various questions concerning the professional and private lives of several people. A few of them have been arrested for various small and large crimes in the past.\n",
    "Use the given data to predict if the people in the test data will commit a crime. The **train data** consists of <code>45718 rows</code>, while the **test data** consists of <code>11430 rows</code>."
   ]
  },
  {
   "cell_type": "markdown",
   "metadata": {},
   "source": [
    "<br>\n",
    "Now I'm going to import all important libraries in the below code cell.\n",
    "## Importing libraries"
   ]
  },
  {
   "cell_type": "code",
   "execution_count": 1,
   "metadata": {
    "collapsed": true
   },
   "outputs": [],
   "source": [
    "# linear algebra\n",
    "import numpy as np \n",
    "\n",
    "# data processing\n",
    "import pandas as pd \n",
    "from sklearn.preprocessing import MinMaxScaler \n",
    "\n",
    "# data visualization\n",
    "import seaborn as sns\n",
    "%matplotlib inline\n",
    "from matplotlib import pyplot as plt\n",
    "from matplotlib import style\n",
    "from tqdm import tqdm_notebook\n",
    "\n",
    "# Algorithms\n",
    "from sklearn.linear_model import LogisticRegression\n",
    "from sklearn import model_selection\n",
    "from sklearn.ensemble import RandomForestClassifier\n",
    "from sklearn.tree import DecisionTreeClassifier\n",
    "from sklearn.neighbors import KNeighborsClassifier\n",
    "from sklearn.svm import SVC, LinearSVC\n",
    "from sklearn.naive_bayes import GaussianNB\n",
    "from sklearn.ensemble import GradientBoostingClassifier\n",
    "from sklearn.neural_network import MLPClassifier\n",
    "#import xgboost \n",
    "from lightgbm import LGBMClassifier\n",
    "from mlxtend.classifier import EnsembleVoteClassifier\n",
    "\n",
    "\n",
    "\n",
    "#Metrices\n",
    "from sklearn.metrics import matthews_corrcoef\n",
    "from sklearn.model_selection import cross_val_score\n"
   ]
  },
  {
   "cell_type": "markdown",
   "metadata": {
    "collapsed": true
   },
   "source": [
    "<br>\n",
    "## Getting the Data"
   ]
  },
  {
   "cell_type": "markdown",
   "metadata": {},
   "source": [
    "Source: [HackerEarth(Predict The Criminal Challenge)](https://www.hackerearth.com/problem/machine-learning/predict-the-criminal/) "
   ]
  },
  {
   "cell_type": "markdown",
   "metadata": {},
   "source": [
    "\n",
    "<img src=https://media1.tenor.com/images/d689a426cfe26f5155ee8e400dc699ee/tenor.gif?itemid=5739993 width=\"600\">"
   ]
  },
  {
   "cell_type": "markdown",
   "metadata": {},
   "source": [
    "After importing the criminal_train.csv file and criminal_test.csv file, I'm combining them so to carry out operation simultaneosly on both files in further steps of data wrangling."
   ]
  },
  {
   "cell_type": "code",
   "execution_count": 2,
   "metadata": {
    "collapsed": true
   },
   "outputs": [],
   "source": [
    "train_df = pd.read_csv('criminal_train.csv')\n",
    "test_df = pd.read_csv('criminal_test.csv')\n",
    "combine = [train_df, test_df] \n",
    "data = pd.concat(combine)"
   ]
  },
  {
   "cell_type": "markdown",
   "metadata": {},
   "source": [
    "<br>\n",
    "<br>\n",
    "## Data Analysis"
   ]
  },
  {
   "cell_type": "markdown",
   "metadata": {},
   "source": [
    "Let's see the what are the features columns present in dataset files. "
   ]
  },
  {
   "cell_type": "code",
   "execution_count": 3,
   "metadata": {},
   "outputs": [
    {
     "name": "stdout",
     "output_type": "stream",
     "text": [
      "Index(['PERID', 'IFATHER', 'NRCH17_2', 'IRHHSIZ2', 'IIHHSIZ2', 'IRKI17_2',\n",
      "       'IIKI17_2', 'IRHH65_2', 'IIHH65_2', 'PRXRETRY', 'PRXYDATA', 'MEDICARE',\n",
      "       'CAIDCHIP', 'CHAMPUS', 'PRVHLTIN', 'GRPHLTIN', 'HLTINNOS', 'HLCNOTYR',\n",
      "       'HLCNOTMO', 'HLCLAST', 'HLLOSRSN', 'HLNVCOST', 'HLNVOFFR', 'HLNVREF',\n",
      "       'HLNVNEED', 'HLNVSOR', 'IRMCDCHP', 'IIMCDCHP', 'IRMEDICR', 'IIMEDICR',\n",
      "       'IRCHMPUS', 'IICHMPUS', 'IRPRVHLT', 'IIPRVHLT', 'IROTHHLT', 'IIOTHHLT',\n",
      "       'HLCALLFG', 'HLCALL99', 'ANYHLTI2', 'IRINSUR4', 'IIINSUR4', 'OTHINS',\n",
      "       'CELLNOTCL', 'CELLWRKNG', 'IRFAMSOC', 'IIFAMSOC', 'IRFAMSSI',\n",
      "       'IIFAMSSI', 'IRFSTAMP', 'IIFSTAMP', 'IRFAMPMT', 'IIFAMPMT', 'IRFAMSVC',\n",
      "       'IIFAMSVC', 'IRWELMOS', 'IIWELMOS', 'IRPINC3', 'IRFAMIN3', 'IIPINC3',\n",
      "       'IIFAMIN3', 'GOVTPROG', 'POVERTY3', 'TOOLONG', 'TROUBUND', 'PDEN10',\n",
      "       'COUTYP2', 'MAIIN102', 'AIIND102', 'ANALWT_C', 'VESTR', 'VEREP',\n",
      "       'Criminal'],\n",
      "      dtype='object')\n"
     ]
    }
   ],
   "source": [
    "print(train_df.columns)\n"
   ]
  },
  {
   "cell_type": "markdown",
   "metadata": {},
   "source": [
    "<br>\n",
    "***\n",
    "**Description of features present in data**\n",
    "\n",
    "Variable Name |  Description     \n",
    ":---------------|:--------------\n",
    "1. ** PERID **  |  Person  ID   \n",
    "2. ** IFATHER **  |  FATHER  IN  HOUSEHOLD   \n",
    "3. ** NRCH17_2 **  |  RECODED  #  R's  CHILDREN  <  18  IN  HOUSEHOLD   \n",
    "4. ** IRHHSIZ2 **  |  RECODE  -  IMPUTATION-REVISED  #  PERSONS  IN  HH   \n",
    "5. ** IIHHSIZ2 **  |  IMPUTATION  INDICATOR   \n",
    "6. ** IRKI17_2 **  |  IMPUTATION-REVISED  #  KIDS  AGED<18  IN  HH   \n",
    "7. ** IIKI17_2 **  |  IRKI17_2-IMPUTATION  INDICATOR   \n",
    "8. ** IRHH65_2 **  |  REC  -  IMPUTATION-REVISED  #  OF  PER  IN  HH  AGED>=65   \n",
    "9. ** IIHH65_2 **  |  IRHH65_2-IMPUTATION  INDICATOR   \n",
    "10. ** PRXRETRY **  |  SELECTED  PROXY  UNAVAILABLE,  OTHER  PROXY  AVAILABLE?   \n",
    "11. ** PRXYDATA **  |  IS  PROXY  ANSWERING  INSURANCE/INCOME  QS   \n",
    "12. ** MEDICARE **  |  COVERED  BY  MEDICARE   \n",
    "13. ** CAIDCHIP **  |  COVERED  BY  MEDICAID/CHIP   \n",
    "14. ** CHAMPUS **  |  COV  BY  TRICARE,  CHAMPUS,  CHAMPVA,  VA,  MILITARY   \n",
    "15. ** PRVHLTIN **  |  COVERED  BY  PRIVATE  INSURANCE   \n",
    "16. ** GRPHLTIN **  |  PRIVATE  PLAN  OFFERED  THROUGH  EMPLOYER  OR  UNION   \n",
    "17. ** HLTINNOS **  |  COVERED  BY  HEALTH  INSUR   \n",
    "18. ** HLCNOTYR **  |  ANYTIME  DID  NOT  HAVE  HEALTH  INS/COVER  PAST  12  MOS   \n",
    "19. ** HLCNOTMO **  |  PAST  12  MOS,  HOW  MANY  MOS  W/O  COVERAGE   \n",
    "20. ** HLCLAST **  |  TIME  SINCE  LAST  HAD  HEALTH  CARE  COVERAGE   \n",
    "21. ** HLLOSRSN **  |  MAIN  REASON  STOPPED  COVERED  BY  HEALTH  INSURANCE   \n",
    "22. ** HLNVCOST **  |  COST  TOO  HIGH   \n",
    "23. ** HLNVOFFR **  |  EMPLOYER  DOESN'T  OFFER   \n",
    "24. ** HLNVREF **  |  INSURANCE  COMPANY  REFUSED  COVERAGE   \n",
    "25. ** HLNVNEED **  |  DON'T  NEED  IT   \n",
    "26. ** HLNVSOR **  |  NEVER  HAD  HLTH  INS  SOME  OTHER  REASON   \n",
    "27. ** IRMCDCHP **  |  IMPUTATION  REVISED  CAIDCHIP   \n",
    "28. ** IIMCDCHP **  |  MEDICAID/CHIP  -  IMPUTATION  INDICATOR   \n",
    "29. ** IRMEDICR **  |  MEDICARE  -  IMPUTATION  REVISED   \n",
    "30. ** IIMEDICR **  |  MEDICARE  -  IMPUTATION  INDICATOR   \n",
    "31. ** IRCHMPUS **  |  CHAMPUS  -  IMPUTATION  REVISED   \n",
    "32. ** IICHMPUS **  |  CHAMPUS  -  IMPUTATION  INDICATOR   \n",
    "33. ** IRPRVHLT **  |  PRIVATE  HEALTH  INSURANCE  -  IMPUTATION  REVISED   \n",
    "34. ** IIPRVHLT **  |  PRIVATE  HEALTH  INSURANCE  -  IMPUTATION  INDICATOR   \n",
    "35. ** IROTHHLT **  |  OTHER  HEALTH  INSURANCE  -  IMPUTATION  REVISED   \n",
    "36. ** IIOTHHLT **  |  OTHER  HEALTH  INSURANCE  -  IMPUTATION  INDICATOR   \n",
    "37. ** HLCALLFG **  |  FLAG  IF  EVERY  FORM  OF  HEALTH  INS  REPORTED   \n",
    "38. ** HLCALL99 **  |  YES  TO  MEDICARE/MEDICAID/CHAMPUS/PRVHLTIN   \n",
    "39. ** ANYHLTI2 **  |  COVERED  BY  ANY  HEALTH  INSURANCE  -  RECODE   \n",
    "40. ** IRINSUR4 **  |  RC-OVERALL  HEALTH  INSURANCE  -  IMPUTATION  REVISED   \n",
    "41. ** IIINSUR4 **  |  RC-OVERALL  HEALTH  INSURANCE  -  IMPUTATION  INDICATOR   \n",
    "42. ** OTHINS **  |  RC-OTHER  HEALTH  INSURANCE   \n",
    "43. ** CELLNOTCL **  |  NOT  A  CELL  PHONE   \n",
    "44. ** CELLWRKNG **  |  WORKING  CELL  PHONE   \n",
    "45. ** IRFAMSOC **  |  FAM  RECEIVE  SS  OR  RR  PAYMENTS  -  IMPUTATION  REVISED   \n",
    "46. ** IIFAMSOC **  |  FAM  RECEIVE  SS  OR  RR  PAYMENTS  -  IMPUTATION  INDICATOR   \n",
    "47. ** IRFAMSSI **  |  FAM  RECEIVE  SSI  -  IMPUTATION  REVISED   \n",
    "48. ** IIFAMSSI **  |  FAM  RECEIVE  SSI  -  IMPUTATION  INDICATOR   \n",
    "49. ** IRFSTAMP **  |  RESP/OTH  FAM  MEM  REC  FOOD  STAMPS  -  IMPUTATION  REVISED   \n",
    "50. ** IIFSTAMP **  |  RESP/OTH  FAM  MEM  REC  FOOD  STAMPS  -  IMPUTATION  INDICATOR   \n",
    "51. ** IRFAMPMT **  |  FAM  RECEIVE  PUBLIC  ASSIST  -  IMPUTATION  REVISED   \n",
    "52. ** IIFAMPMT **  |  FAM  RECEIVE  PUBLIC  ASSIST  -  IMPUTATION  INDICATOR   \n",
    "53. ** IRFAMSVC **  |  FAM  REC  WELFARE/JOB  PL/CHILDCARE  -  IMPUTATION  REVISED   \n",
    "54. ** IIFAMSVC **  |  FAM  REC  WELFARE/JOB  PL/CHILDCARE  -  IMPUTATION  INDICATOR   \n",
    "55. ** IRWELMOS **  |  IMP.  REVISED  -  NO.OF  MONTHS  ON  WELFARE   \n",
    "56. ** IIWELMOS **  |  NO  OF  MONTHS  ON  WELFARE  -  IMPUTATION  INDICATOR   \n",
    "57. ** IRPINC3 **  |  RESP  TOT  INCOME  (FINER  CAT)  -  IMP  REV   \n",
    "58. ** IRFAMIN3 **  |  RECODE  -  IMP.REVISED  -  TOT  FAM  INCOME   \n",
    "59. ** IIPINC3 **  |  RESP  TOT  INCOME  (FINER  CAT)  -  IMP  INDIC   \n",
    "60. ** IIFAMIN3 **  |  IRFAMIN3  -  IMPUTATION  INDICATOR   \n",
    "61. ** GOVTPROG **  |  RC-PARTICIPATED  IN  ONE  OR  MORE  GOVT  ASSIST  PROGRAMS   \n",
    "62. ** POVERTY3 **  |  RC-POVERTY  LEVEL   \n",
    "63. ** TOOLONG **  |  RESP  SAID  INTERVIEW  WAS  TOO  LONG   \n",
    "64. ** TROUBUND **  |  DID  RESP  HAVE  TROUBLE  UNDERSTANDING  INTERVIEW   \n",
    "65. ** PDEN10 **  |  POPULATION  DENSITY  2010   \n",
    "66. ** COUTYP2 **  |  COUNTY  METRO/NONMETRO  STATUS   \n",
    "67. ** MAIIN102 **  |  MAJORITY  AMER  INDIAN  AREA  INDICATOR  FOR  SEGMENT   \n",
    "68. ** AIIND102 **  |  AMER  INDIAN  AREA  INDICATOR   \n",
    "69. ** ANALWT_C **  |  FIN  PRSN-LEVEL  SIMPLE  WGHT   \n",
    "70. ** VESTR **  |  ANALYSIS  STRATUM   \n",
    "71. ** VEREP **  |  ANALYSIS  REPLICATE   \n",
    "72. ** Criminal **  |  Target  Variable "
   ]
  },
  {
   "cell_type": "raw",
   "metadata": {},
   "source": [
    "train_df.head()"
   ]
  },
  {
   "cell_type": "markdown",
   "metadata": {},
   "source": [
    "## Using Heatmap To See NaN Values"
   ]
  },
  {
   "cell_type": "code",
   "execution_count": 4,
   "metadata": {},
   "outputs": [
    {
     "data": {
      "text/plain": [
       "<matplotlib.axes._subplots.AxesSubplot at 0x23a514fffd0>"
      ]
     },
     "execution_count": 4,
     "metadata": {},
     "output_type": "execute_result"
    },
    {
     "data": {
      "image/png": "[encoded data removed]",
      "text/plain": [
       "<matplotlib.figure.Figure at 0x23a514ffb00>"
      ]
     },
     "metadata": {},
     "output_type": "display_data"
    }
   ],
   "source": [
    "plt.figure(figsize = (20,5))\n",
    "sns.heatmap(train_df.isnull(),yticklabels=False,cbar=False,cmap='plasma')"
   ]
  },
  {
   "cell_type": "code",
   "execution_count": 5,
   "metadata": {},
   "outputs": [
    {
     "data": {
      "text/plain": [
       "<matplotlib.axes._subplots.AxesSubplot at 0x23a51b1b668>"
      ]
     },
     "execution_count": 5,
     "metadata": {},
     "output_type": "execute_result"
    },
    {
     "data": {
      "image/png": "[encoded data removed]",
      "text/plain": [
       "<matplotlib.figure.Figure at 0x23a4d5d4dd8>"
      ]
     },
     "metadata": {},
     "output_type": "display_data"
    }
   ],
   "source": [
    "plt.figure(figsize = (20,5))\n",
    "sns.heatmap(test_df.isnull(),yticklabels=False,cbar=False,cmap='plasma')"
   ]
  },
  {
   "cell_type": "markdown",
   "metadata": {},
   "source": [
    "### From above we can see that none of train_df and test _df contains any nan value"
   ]
  },
  {
   "cell_type": "markdown",
   "metadata": {},
   "source": [
    "## Variations in Criminal labels"
   ]
  },
  {
   "cell_type": "code",
   "execution_count": 6,
   "metadata": {},
   "outputs": [
    {
     "data": {
      "text/plain": [
       "Text(0.5,1,'The variation in target labels ')"
      ]
     },
     "execution_count": 6,
     "metadata": {},
     "output_type": "execute_result"
    },
    {
     "data": {
      "image/png": "[encoded data removed]",
      "text/plain": [
       "<matplotlib.figure.Figure at 0x23a52028470>"
      ]
     },
     "metadata": {},
     "output_type": "display_data"
    }
   ],
   "source": [
    "plt.figure(figsize = (6,8))\n",
    "\n",
    "xvals = ['0', '1']\n",
    "yvals = [len(train_df[train_df['Criminal'] == 0 ]), len(train_df[train_df['Criminal'] == 1 ])]\n",
    "\n",
    "plt.bar(xvals, yvals, width = 0.3, color = ['blue', 'red'])\n",
    "plt.xlabel('Labels', fontdict = {'size': '16'})\n",
    "plt.ylabel('Frequency Of Labels ', fontdict = {'size': '16'})\n",
    "plt.title('The variation in target labels ')\n"
   ]
  },
  {
   "cell_type": "code",
   "execution_count": 7,
   "metadata": {},
   "outputs": [
    {
     "name": "stdout",
     "output_type": "stream",
     "text": [
      "42543\n"
     ]
    }
   ],
   "source": [
    "print(len((train_df[train_df['Criminal'] == 0 ])))"
   ]
  },
  {
   "cell_type": "markdown",
   "metadata": {},
   "source": [
    "## Scaling columns that are large having float value"
   ]
  },
  {
   "cell_type": "code",
   "execution_count": 8,
   "metadata": {},
   "outputs": [
    {
     "data": {
      "text/plain": [
       "Index(['ANALWT_C'], dtype='object')"
      ]
     },
     "execution_count": 8,
     "metadata": {},
     "output_type": "execute_result"
    }
   ],
   "source": [
    "train_df.columns[train_df.dtypes== 'float64']"
   ]
  },
  {
   "cell_type": "code",
   "execution_count": 9,
   "metadata": {},
   "outputs": [
    {
     "data": {
      "text/plain": [
       "count     45718.000000\n",
       "mean       4692.661179\n",
       "std        5724.659486\n",
       "min          -1.000000\n",
       "25%        1252.396472\n",
       "50%        2719.335160\n",
       "75%        5765.810794\n",
       "max      109100.623000\n",
       "Name: ANALWT_C, dtype: float64"
      ]
     },
     "execution_count": 9,
     "metadata": {},
     "output_type": "execute_result"
    }
   ],
   "source": [
    "train_df['ANALWT_C'].describe()"
   ]
  },
  {
   "cell_type": "code",
   "execution_count": 10,
   "metadata": {
    "collapsed": true
   },
   "outputs": [],
   "source": [
    "scale = MinMaxScaler()"
   ]
  },
  {
   "cell_type": "code",
   "execution_count": 11,
   "metadata": {
    "collapsed": true
   },
   "outputs": [],
   "source": [
    "train_df['ANALWT_C_scaled'] = scale.fit_transform(train_df[['ANALWT_C']])\n",
    "test_df['ANALWT_C_scaled'] = scale.transform(test_df[['ANALWT_C']])"
   ]
  },
  {
   "cell_type": "code",
   "execution_count": 12,
   "metadata": {},
   "outputs": [
    {
     "data": {
      "text/plain": [
       "0    0.149840\n",
       "1    0.027588\n",
       "2    0.002456\n",
       "3    0.049384\n",
       "4    0.001599\n",
       "Name: ANALWT_C_scaled, dtype: float64"
      ]
     },
     "execution_count": 12,
     "metadata": {},
     "output_type": "execute_result"
    }
   ],
   "source": [
    "#let's check values of ANALWT_C_scaled\n",
    "test_df['ANALWT_C_scaled'].head()"
   ]
  },
  {
   "cell_type": "markdown",
   "metadata": {},
   "source": [
    "# Data Cleaning "
   ]
  },
  {
   "cell_type": "markdown",
   "metadata": {},
   "source": [
    "## For Duplicate Columns"
   ]
  },
  {
   "cell_type": "code",
   "execution_count": 13,
   "metadata": {},
   "outputs": [
    {
     "data": {
      "application/vnd.jupyter.widget-view+json": {
       "model_id": "7c04a6635e2843acb23a3be9613abf80",
       "version_major": 2,
       "version_minor": 0
      },
      "text/plain": [
       "A Jupyter Widget"
      ]
     },
     "metadata": {},
     "output_type": "display_data"
    },
    {
     "name": "stdout",
     "output_type": "stream",
     "text": [
      "\n"
     ]
    },
    {
     "data": {
      "application/vnd.jupyter.widget-view+json": {
       "model_id": "695ff92a1b4c447ea8ba971e89b059db",
       "version_major": 2,
       "version_minor": 0
      },
      "text/plain": [
       "A Jupyter Widget"
      ]
     },
     "metadata": {},
     "output_type": "display_data"
    },
    {
     "name": "stdout",
     "output_type": "stream",
     "text": [
      "\n"
     ]
    }
   ],
   "source": [
    "\n",
    "train_enc = pd.DataFrame(index= train_df.index)\n",
    "\n",
    "for col in tqdm_notebook(train_df.columns):\n",
    "    train_enc[col] = train_df[col].factorize()[0]\n",
    "\n",
    "dup_col = {}\n",
    "\n",
    "for i, c1 in enumerate(tqdm_notebook(train_enc.columns)):\n",
    "    for c2 in train_enc.columns[i+1 :]:\n",
    "        if c2 not in dup_col and np.all(train_enc[c1] == train_enc[c2]):\n",
    "            dup_col[c2]=c1"
   ]
  },
  {
   "cell_type": "code",
   "execution_count": 14,
   "metadata": {},
   "outputs": [
    {
     "data": {
      "text/plain": [
       "{'ANALWT_C_scaled': 'ANALWT_C', 'HLCALL99': 'HLCALLFG'}"
      ]
     },
     "execution_count": 14,
     "metadata": {},
     "output_type": "execute_result"
    }
   ],
   "source": [
    "dup_col"
   ]
  },
  {
   "cell_type": "markdown",
   "metadata": {},
   "source": [
    "## Removing Duplicate Column"
   ]
  },
  {
   "cell_type": "code",
   "execution_count": 15,
   "metadata": {
    "collapsed": true
   },
   "outputs": [],
   "source": [
    "train_df.drop(\"HLCALL99\",axis=1,inplace=True)\n",
    "test_df.drop(\"HLCALL99\",axis=1, inplace=True)"
   ]
  },
  {
   "cell_type": "code",
   "execution_count": 16,
   "metadata": {
    "collapsed": true
   },
   "outputs": [],
   "source": [
    "# removing the id column as it is not required.\n",
    "train_df.drop(\"PERID\",axis=1,inplace=True)\n",
    "test_df.drop(\"PERID\", axis = 1, inplace = True)"
   ]
  },
  {
   "cell_type": "code",
   "execution_count": 17,
   "metadata": {
    "collapsed": true
   },
   "outputs": [],
   "source": [
    "#removing coulmn ANALWT_C \n",
    "\n",
    "train_df.drop('ANALWT_C', axis =1, inplace = True)\n",
    "test_df.drop('ANALWT_C', axis =1, inplace = True)"
   ]
  },
  {
   "cell_type": "code",
   "execution_count": 18,
   "metadata": {},
   "outputs": [
    {
     "data": {
      "text/plain": [
       "(45718, 70)"
      ]
     },
     "execution_count": 18,
     "metadata": {},
     "output_type": "execute_result"
    }
   ],
   "source": [
    "train_df.shape"
   ]
  },
  {
   "cell_type": "code",
   "execution_count": 19,
   "metadata": {},
   "outputs": [
    {
     "data": {
      "text/plain": [
       "(11430, 69)"
      ]
     },
     "execution_count": 19,
     "metadata": {},
     "output_type": "execute_result"
    }
   ],
   "source": [
    "test_df.shape"
   ]
  },
  {
   "cell_type": "markdown",
   "metadata": {},
   "source": [
    "# Model Validation"
   ]
  },
  {
   "cell_type": "markdown",
   "metadata": {
    "collapsed": true
   },
   "source": [
    "## Choosing Predictors "
   ]
  },
  {
   "cell_type": "code",
   "execution_count": 23,
   "metadata": {
    "collapsed": true
   },
   "outputs": [],
   "source": [
    "Criminal_Predictors = ['IFATHER', 'NRCH17_2', 'IRHHSIZ2', 'IIHHSIZ2', 'IRKI17_2', 'IIKI17_2','IRHH65_2', 'IIHH65_2', 'PRXRETRY', 'PRXYDATA', 'MEDICARE', 'CAIDCHIP',\n",
    "       'CHAMPUS', 'PRVHLTIN', 'GRPHLTIN', 'HLTINNOS', 'HLCNOTYR', 'HLCNOTMO','HLCLAST', 'HLLOSRSN', 'HLNVCOST', 'HLNVOFFR', 'HLNVREF', 'HLNVNEED',\n",
    "       'HLNVSOR', 'IRMCDCHP', 'IIMCDCHP', 'IRMEDICR', 'IIMEDICR', 'IRCHMPUS','IICHMPUS', 'IRPRVHLT', 'IIPRVHLT', 'IROTHHLT', 'IIOTHHLT', 'HLCALLFG',\n",
    "       'ANYHLTI2', 'IRINSUR4', 'IIINSUR4', 'OTHINS', 'CELLNOTCL', 'CELLWRKNG','IRFAMSOC', 'IIFAMSOC', 'IRFAMSSI', 'IIFAMSSI', 'IRFSTAMP', 'IIFSTAMP',\n",
    "       'IRFAMPMT', 'IIFAMPMT', 'IRFAMSVC', 'IIFAMSVC', 'IRWELMOS', 'IIWELMOS','IRPINC3', 'IRFAMIN3', 'IIPINC3', 'IIFAMIN3', 'GOVTPROG', 'POVERTY3',\n",
    "       'TOOLONG', 'TROUBUND', 'PDEN10', 'COUTYP2', 'MAIIN102', 'AIIND102', 'ANALWT_C_scaled','VESTR', 'VEREP']"
   ]
  },
  {
   "cell_type": "code",
   "execution_count": 24,
   "metadata": {
    "collapsed": true
   },
   "outputs": [],
   "source": [
    "train_X = train_df[Criminal_Predictors] "
   ]
  },
  {
   "cell_type": "code",
   "execution_count": 25,
   "metadata": {},
   "outputs": [
    {
     "data": {
      "text/plain": [
       "45718"
      ]
     },
     "execution_count": 25,
     "metadata": {},
     "output_type": "execute_result"
    }
   ],
   "source": [
    "len(train_X)"
   ]
  },
  {
   "cell_type": "code",
   "execution_count": 26,
   "metadata": {
    "collapsed": true
   },
   "outputs": [],
   "source": [
    "test_X = test_df[Criminal_Predictors]"
   ]
  },
  {
   "cell_type": "markdown",
   "metadata": {},
   "source": [
    "\n",
    "### Applying scaling on data frame"
   ]
  },
  {
   "cell_type": "code",
   "execution_count": 27,
   "metadata": {
    "collapsed": true
   },
   "outputs": [],
   "source": [
    "Scaler = MinMaxScaler()"
   ]
  },
  {
   "cell_type": "code",
   "execution_count": 28,
   "metadata": {
    "collapsed": true
   },
   "outputs": [],
   "source": [
    "train_X_scaled = Scaler.fit_transform(train_X)\n"
   ]
  },
  {
   "cell_type": "code",
   "execution_count": 29,
   "metadata": {
    "collapsed": true
   },
   "outputs": [],
   "source": [
    "test_X_scaled = Scaler.transform(test_X) "
   ]
  },
  {
   "cell_type": "markdown",
   "metadata": {},
   "source": [
    "## Target Value"
   ]
  },
  {
   "cell_type": "code",
   "execution_count": 30,
   "metadata": {
    "collapsed": true
   },
   "outputs": [],
   "source": [
    "\n",
    "Y = train_df['Criminal']"
   ]
  },
  {
   "cell_type": "markdown",
   "metadata": {},
   "source": [
    "## Machine Learning  Models"
   ]
  },
  {
   "cell_type": "code",
   "execution_count": 33,
   "metadata": {
    "collapsed": true
   },
   "outputs": [],
   "source": [
    "Naive_Bayes = GaussianNB() \n",
    "\n",
    "DecisionTree = DecisionTreeClassifier()\n",
    "\n",
    "RandomForest = RandomForestClassifier(random_state=0)\n",
    "\n",
    "GradientBoosting = GradientBoostingClassifier(n_estimators=197, random_state=0)\n",
    "\n",
    "LGBM = LGBMClassifier(objective='binary',random_state=0)\n",
    "\n",
    "Neural_Network  = MLPClassifier(random_state=0)\n",
    "\n",
    "Support_Vector_Machine =  SVC(random_state=0)\n",
    "\n",
    "K_Neighbour_Classifier =  KNeighborsClassifier()\n",
    "\n",
    "Logistic_Regression = LogisticRegression() "
   ]
  },
  {
   "cell_type": "markdown",
   "metadata": {},
   "source": [
    "## Training Each Model And Finding There Cross Validation Score  \n",
    "\n"
   ]
  },
  {
   "cell_type": "code",
   "execution_count": null,
   "metadata": {},
   "outputs": [
    {
     "name": "stdout",
     "output_type": "stream",
     "text": [
      "5-fold cross validation:\n",
      "\n",
      "Accuracy : 37.30 % (+/- 2.14) [Naive Bayes Classifier]\n",
      "Accuracy : 93.85 % (+/- 0.16) [Logistic Regression Classifier]\n",
      "Accuracy : 93.44 % (+/- 0.25) [Decision Tree Classifier]\n",
      "Accuracy : 94.67 % (+/- 0.10) [Random Forest Classifier]\n"
     ]
    }
   ],
   "source": [
    "\n",
    "print('5-fold cross validation:\\n')\n",
    "\n",
    "labels = ['Naive Bayes Classifier', 'Logistic Regression Classifier', 'Decision Tree Classifier',  'Random Forest Classifier', 'Gradient Boosting Classifier',\\\n",
    "          'LightGBM Classifier', 'Neural Network Classifier','Support_Vector_Machine', 'K Neighbors Classifier']\n",
    "\n",
    "for clf, label in zip([Naive_Bayes, Logistic_Regression, DecisionTree, RandomForest, GradientBoosting, LGBM, Neural_Network,   SVC(random_state=0),  K_Neighbour_Classifier ], labels):\n",
    "\n",
    "    scores = model_selection.cross_val_score(clf, train_X_scaled, Y, \n",
    "                                              cv=5, \n",
    "                                              scoring='accuracy')\n",
    "    print(\"Accuracy : %0.2f %% (+/- %0.2f) [%s]\"\n",
    "          % ((scores.mean())*100, (scores.std())*100, label))"
   ]
  },
  {
   "cell_type": "markdown",
   "metadata": {},
   "source": [
    "# Model Ensembling "
   ]
  },
  {
   "cell_type": "code",
   "execution_count": null,
   "metadata": {
    "collapsed": true
   },
   "outputs": [],
   "source": [
    "labels = ['Random Forest Classifier', 'Neural Network Classifier','Support_Vector_Machine','LightGBM Classifier', 'Ensemble Vote Classifier']\n",
    "eclf = EnsembleVoteClassifier(clfs=[RandomForest, Neural_Network, SVC(random_state=0), LGBM], weights=[1, 1, 1, 1])\n",
    "for clf, label in zip([RandomForest, Neural_Network, SVC(random_state=0), LGBM, eclf], labels):\n",
    "\n",
    "    scores = model_selection.cross_val_score(clf, train_X_scaled, Y, \n",
    "                                              cv=5, \n",
    "                                              scoring='accuracy')\n",
    "    print(\"Accuracy: %0.2f (+/- %0.2f) [%s]\" \n",
    "          % (scores.mean(), scores.std(), label))"
   ]
  },
  {
   "cell_type": "code",
   "execution_count": null,
   "metadata": {
    "collapsed": true
   },
   "outputs": [],
   "source": [
    "eclf = EnsembleVoteClassifier(clfs=[LGBM, Logistic_Regression,  Neural_Network], weights=[1, 1, 1], voting = 'hard')\n"
   ]
  },
  {
   "cell_type": "code",
   "execution_count": null,
   "metadata": {
    "collapsed": true
   },
   "outputs": [],
   "source": [
    "for clf, label in zip([eclf], ['Ensemble Vote Classifier']):\n",
    "        scores = model_selection.cross_val_score(clf, train_X_scaled, Y, \n",
    "                                              cv=5, \n",
    "                                              scoring='accuracy')\n",
    "        print(\"Accuracy: %0.2f (+/- %0.2f) [%s]\" \n",
    "          % (scores.mean(), scores.std(), label))"
   ]
  },
  {
   "cell_type": "markdown",
   "metadata": {},
   "source": [
    "# Finding Matthews Correlation Coefficient (MCC) For Best Model"
   ]
  },
  {
   "cell_type": "code",
   "execution_count": null,
   "metadata": {
    "collapsed": true
   },
   "outputs": [],
   "source": [
    "\n",
    "train_X, test_X, train_y, test_y = model_selection.train_test_split(train_X, Y,test_size = 0.30, random_state=1)\n",
    "\n",
    "\n",
    "my_model = GradientBoostingClassifier(n_estimators=197 )\n",
    "\n",
    "my_model.fit(train_X, train_y)\n"
   ]
  },
  {
   "cell_type": "code",
   "execution_count": null,
   "metadata": {
    "collapsed": true
   },
   "outputs": [],
   "source": [
    "print(\"Matthews correlation coefficient (MCC): \", matthews_corrcoef(test_y, y_predict, sample_weight=None))"
   ]
  },
  {
   "cell_type": "markdown",
   "metadata": {},
   "source": [
    "## Submitting Competition files"
   ]
  },
  {
   "cell_type": "markdown",
   "metadata": {},
   "source": [
    "## Prepare Submission File"
   ]
  },
  {
   "cell_type": "code",
   "execution_count": null,
   "metadata": {
    "collapsed": true
   },
   "outputs": [],
   "source": [
    "my_model = GradientBoostingClassifier(n_estimators=197 )\n",
    "\n",
    "my_model.fit(train_X_scaled, Y)\n"
   ]
  },
  {
   "cell_type": "code",
   "execution_count": null,
   "metadata": {
    "collapsed": true
   },
   "outputs": [],
   "source": [
    "predicted_Y = my_model.predict(test_X_scaled)"
   ]
  },
  {
   "cell_type": "code",
   "execution_count": null,
   "metadata": {
    "collapsed": true
   },
   "outputs": [],
   "source": [
    "my_submission = pd.DataFrame({'PERID': test.PERID, 'Criminal': predicted_Y})\n",
    "# you could use any filename. We choose submission hereb\n",
    "my_submission.to_csv('submissionGBM.csv', index=False)"
   ]
  },
  {
   "cell_type": "markdown",
   "metadata": {},
   "source": [
    "# --------------------------------------------------------------------------------------------------------- "
   ]
  }
 ],
 "metadata": {
  "kernelspec": {
   "display_name": "Python 3",
   "language": "python",
   "name": "python3"
  },
  "language_info": {
   "codemirror_mode": {
    "name": "ipython",
    "version": 3
   },
   "file_extension": ".py",
   "mimetype": "text/x-python",
   "name": "python",
   "nbconvert_exporter": "python",
   "pygments_lexer": "ipython3",
   "version": "3.6.3"
  }
 },
 "nbformat": 4,
 "nbformat_minor": 2
}
